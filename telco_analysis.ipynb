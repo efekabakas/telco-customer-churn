{
 "cells": [
  {
   "cell_type": "code",
   "execution_count": 20,
   "id": "779630a7",
   "metadata": {},
   "outputs": [
    {
     "name": "stdout",
     "output_type": "stream",
     "text": [
      "Requirement already satisfied: imblearn in c:\\users\\efe\\anaconda3\\lib\\site-packages (0.0)\n",
      "Requirement already satisfied: imbalanced-learn in c:\\users\\efe\\anaconda3\\lib\\site-packages (from imblearn) (0.8.1)\n",
      "Requirement already satisfied: scipy>=0.19.1 in c:\\users\\efe\\anaconda3\\lib\\site-packages (from imbalanced-learn->imblearn) (1.6.2)\n",
      "Requirement already satisfied: scikit-learn>=0.24 in c:\\users\\efe\\anaconda3\\lib\\site-packages (from imbalanced-learn->imblearn) (0.24.1)\n",
      "Requirement already satisfied: numpy>=1.13.3 in c:\\users\\efe\\anaconda3\\lib\\site-packages (from imbalanced-learn->imblearn) (1.20.1)\n",
      "Requirement already satisfied: joblib>=0.11 in c:\\users\\efe\\anaconda3\\lib\\site-packages (from imbalanced-learn->imblearn) (1.0.1)\n",
      "Requirement already satisfied: threadpoolctl>=2.0.0 in c:\\users\\efe\\anaconda3\\lib\\site-packages (from scikit-learn>=0.24->imbalanced-learn->imblearn) (2.1.0)\n"
     ]
    }
   ],
   "source": [
    "import warnings\n",
    "warnings.filterwarnings(\"ignore\")\n",
    "\n",
    "!pip install imblearn"
   ]
  },
  {
   "cell_type": "code",
   "execution_count": 47,
   "id": "aaf2f5bc",
   "metadata": {},
   "outputs": [],
   "source": [
    "import pandas as pd\n",
    "import numpy as np\n",
    "import matplotlib.pyplot as plt\n",
    "import seaborn as sns\n",
    "from sklearn.preprocessing import MinMaxScaler\n",
    "from sklearn.preprocessing import OneHotEncoder"
   ]
  },
  {
   "cell_type": "code",
   "execution_count": 48,
   "id": "af995544",
   "metadata": {},
   "outputs": [],
   "source": [
    "#Preparation and cleaning of the data\n",
    "df = pd.read_csv('data/WA_Fn-UseC_-Telco-Customer-Churn.csv', sep=',')#reading dataset"
   ]
  },
  {
   "cell_type": "code",
   "execution_count": 49,
   "id": "fb8e33f9",
   "metadata": {},
   "outputs": [
    {
     "name": "stdout",
     "output_type": "stream",
     "text": [
      "<class 'pandas.core.frame.DataFrame'>\n",
      "RangeIndex: 7043 entries, 0 to 7042\n",
      "Data columns (total 21 columns):\n",
      " #   Column            Non-Null Count  Dtype  \n",
      "---  ------            --------------  -----  \n",
      " 0   customerID        7043 non-null   object \n",
      " 1   gender            7043 non-null   object \n",
      " 2   SeniorCitizen     7043 non-null   int64  \n",
      " 3   Partner           7043 non-null   object \n",
      " 4   Dependents        7043 non-null   object \n",
      " 5   tenure            7043 non-null   int64  \n",
      " 6   PhoneService      7043 non-null   object \n",
      " 7   MultipleLines     7043 non-null   object \n",
      " 8   InternetService   7043 non-null   object \n",
      " 9   OnlineSecurity    7043 non-null   object \n",
      " 10  OnlineBackup      7043 non-null   object \n",
      " 11  DeviceProtection  7043 non-null   object \n",
      " 12  TechSupport       7043 non-null   object \n",
      " 13  StreamingTV       7043 non-null   object \n",
      " 14  StreamingMovies   7043 non-null   object \n",
      " 15  Contract          7043 non-null   object \n",
      " 16  PaperlessBilling  7043 non-null   object \n",
      " 17  PaymentMethod     7043 non-null   object \n",
      " 18  MonthlyCharges    7043 non-null   float64\n",
      " 19  TotalCharges      7043 non-null   object \n",
      " 20  Churn             7043 non-null   object \n",
      "dtypes: float64(1), int64(2), object(18)\n",
      "memory usage: 1.1+ MB\n"
     ]
    }
   ],
   "source": [
    "df.info()"
   ]
  },
  {
   "cell_type": "code",
   "execution_count": 50,
   "id": "e6019dc9",
   "metadata": {},
   "outputs": [],
   "source": [
    "df.columns = df.columns.str.replace(' ', '')  #remove empty characters from the columns"
   ]
  },
  {
   "cell_type": "code",
   "execution_count": 51,
   "id": "e3b05d04",
   "metadata": {},
   "outputs": [
    {
     "data": {
      "text/plain": [
       "(7043, 21)"
      ]
     },
     "execution_count": 51,
     "metadata": {},
     "output_type": "execute_result"
    }
   ],
   "source": [
    "df.shape"
   ]
  },
  {
   "cell_type": "code",
   "execution_count": 52,
   "id": "531f6818",
   "metadata": {},
   "outputs": [
    {
     "data": {
      "text/plain": [
       "False    7043\n",
       "dtype: int64"
      ]
     },
     "execution_count": 52,
     "metadata": {},
     "output_type": "execute_result"
    }
   ],
   "source": [
    "df.duplicated().value_counts()  #get duplicated rows"
   ]
  },
  {
   "cell_type": "code",
   "execution_count": 53,
   "id": "0217b02c",
   "metadata": {},
   "outputs": [
    {
     "data": {
      "text/html": [
       "<div>\n",
       "<style scoped>\n",
       "    .dataframe tbody tr th:only-of-type {\n",
       "        vertical-align: middle;\n",
       "    }\n",
       "\n",
       "    .dataframe tbody tr th {\n",
       "        vertical-align: top;\n",
       "    }\n",
       "\n",
       "    .dataframe thead th {\n",
       "        text-align: right;\n",
       "    }\n",
       "</style>\n",
       "<table border=\"1\" class=\"dataframe\">\n",
       "  <thead>\n",
       "    <tr style=\"text-align: right;\">\n",
       "      <th></th>\n",
       "      <th>count</th>\n",
       "      <th>mean</th>\n",
       "      <th>std</th>\n",
       "      <th>min</th>\n",
       "      <th>25%</th>\n",
       "      <th>50%</th>\n",
       "      <th>75%</th>\n",
       "      <th>max</th>\n",
       "      <th>cardinality</th>\n",
       "      <th>missing</th>\n",
       "    </tr>\n",
       "  </thead>\n",
       "  <tbody>\n",
       "    <tr>\n",
       "      <th>SeniorCitizen</th>\n",
       "      <td>7043.0</td>\n",
       "      <td>0.162147</td>\n",
       "      <td>0.368612</td>\n",
       "      <td>0.00</td>\n",
       "      <td>0.0</td>\n",
       "      <td>0.00</td>\n",
       "      <td>0.00</td>\n",
       "      <td>1.00</td>\n",
       "      <td>2.0</td>\n",
       "      <td>0.0</td>\n",
       "    </tr>\n",
       "    <tr>\n",
       "      <th>tenure</th>\n",
       "      <td>7043.0</td>\n",
       "      <td>32.371149</td>\n",
       "      <td>24.559481</td>\n",
       "      <td>0.00</td>\n",
       "      <td>9.0</td>\n",
       "      <td>29.00</td>\n",
       "      <td>55.00</td>\n",
       "      <td>72.00</td>\n",
       "      <td>73.0</td>\n",
       "      <td>0.0</td>\n",
       "    </tr>\n",
       "    <tr>\n",
       "      <th>MonthlyCharges</th>\n",
       "      <td>7043.0</td>\n",
       "      <td>64.761692</td>\n",
       "      <td>30.090047</td>\n",
       "      <td>18.25</td>\n",
       "      <td>35.5</td>\n",
       "      <td>70.35</td>\n",
       "      <td>89.85</td>\n",
       "      <td>118.75</td>\n",
       "      <td>1585.0</td>\n",
       "      <td>0.0</td>\n",
       "    </tr>\n",
       "  </tbody>\n",
       "</table>\n",
       "</div>"
      ],
      "text/plain": [
       "                 count       mean        std    min   25%    50%    75%  \\\n",
       "SeniorCitizen   7043.0   0.162147   0.368612   0.00   0.0   0.00   0.00   \n",
       "tenure          7043.0  32.371149  24.559481   0.00   9.0  29.00  55.00   \n",
       "MonthlyCharges  7043.0  64.761692  30.090047  18.25  35.5  70.35  89.85   \n",
       "\n",
       "                   max  cardinality  missing  \n",
       "SeniorCitizen     1.00          2.0      0.0  \n",
       "tenure           72.00         73.0      0.0  \n",
       "MonthlyCharges  118.75       1585.0      0.0  "
      ]
     },
     "execution_count": 53,
     "metadata": {},
     "output_type": "execute_result"
    }
   ],
   "source": [
    "dqr_num = df.describe() #data quality report for numeric variables\n",
    "cardinality = df.apply(pd.Series.nunique)\n",
    "dqr_num.loc['cardinality'] = cardinality[dqr_num.columns]\n",
    "dqr_num.loc['missing'] = df.isnull().sum(axis = 0)\n",
    "dqr_num = dqr_num.T\n",
    "dqr_num"
   ]
  },
  {
   "cell_type": "code",
   "execution_count": 54,
   "id": "a2ff11be",
   "metadata": {},
   "outputs": [
    {
     "name": "stdout",
     "output_type": "stream",
     "text": [
      "Feature           Count      Card         Mode         Mode Freq       Mode(%)       2nd Mode     2nd Mode Freq   2nd Mode(%)  \n",
      "customerID         7043      7043      0002-ORFBO          1            0.01        1422-DGUBX          1            0.01      \n",
      "gender             7043       2           Male           3555           50.48         Female          3488           49.52     \n",
      "Partner            7043       2            No            3641           51.70           Yes           3402           48.30     \n",
      "Dependents         7043       2            No            4933           70.04           Yes           2110           29.96     \n",
      "PhoneService       7043       2           Yes            6361           90.32           No             682           9.68      \n",
      "MultipleLines      7043       3            No            3390           48.13           Yes           2971           42.18     \n",
      "InternetService    7043       3       Fiber optic        3096           43.96           DSL           2421           34.37     \n",
      "OnlineSecurity     7043       3            No            3498           49.67           Yes           2019           28.67     \n",
      "OnlineBackup       7043       3            No            3088           43.84           Yes           2429           34.49     \n",
      "DeviceProtection   7043       3            No            3095           43.94           Yes           2422           34.39     \n",
      "TechSupport        7043       3            No            3473           49.31           Yes           2044           29.02     \n",
      "StreamingTV        7043       3            No            2810           39.90           Yes           2707           38.44     \n",
      "StreamingMovies    7043       3            No            2785           39.54           Yes           2732           38.79     \n",
      "Contract           7043       3      Month-to-month      3875           55.02        Two year         1695           24.07     \n",
      "PaperlessBilling   7043       2           Yes            4171           59.22           No            2872           40.78     \n",
      "PaymentMethod      7043       4     Electronic check     2365           33.58      Mailed check       1612           22.89     \n",
      "TotalCharges       7043      6531                         11            0.16           20.2            11            0.16      \n",
      "Churn              7043       2            No            5174           73.46           Yes           1869           26.54     \n"
     ]
    }
   ],
   "source": [
    "categorical_columns= df.select_dtypes(exclude=[\"number\"]).columns #data quality report for categorical features\n",
    "formatter = \"{0:.2f}\"\n",
    "listModeName=[]\n",
    "list_mode=[]\n",
    "print(f\"{'Feature' : <16}{'Count' : ^10}{'Card' : ^10}{'Mode':^16}{'Mode Freq':^15}{'Mode(%)':^15}{'2nd Mode':^15}{'2nd Mode Freq':^15}{'2nd Mode(%)':^15}\")\n",
    "for i in range(len(categorical_columns)):\n",
    "    listModeName.extend(df[categorical_columns[i]].value_counts().index.tolist())  \n",
    "    list_mode.extend(df[categorical_columns[i]].value_counts())  \n",
    "    print(f\"{categorical_columns[i]: <16}{df[categorical_columns[i]].count(): ^10}{df[categorical_columns[i]].nunique(): ^10}{df[categorical_columns[i]].mode().values[0]: ^16}{df[categorical_columns[i]].value_counts().max(): ^15}{formatter.format((df[categorical_columns[i]].value_counts().max()/df[categorical_columns[i]].count())*100): ^15}{listModeName[1]: ^15}{list_mode[1]: ^15}{formatter.format((list_mode[1]/df[categorical_columns[i]].count())*100): ^15}\")\n",
    "    list_mode.clear() \n",
    "    listModeName.clear()"
   ]
  },
  {
   "cell_type": "code",
   "execution_count": 55,
   "id": "cb861e0d",
   "metadata": {},
   "outputs": [
    {
     "name": "stdout",
     "output_type": "stream",
     "text": [
      "1397.475 \n",
      "\n"
     ]
    }
   ],
   "source": [
    "TotalCharges_median = df[df['TotalCharges'] != ' ']['TotalCharges'].apply(pd.to_numeric).median() #get the median without the empty strings\n",
    "df[\"TotalCharges\"].replace([' '], TotalCharges_median,inplace = True) #fil empty values with median\n",
    "df['TotalCharges'] = df['TotalCharges'].apply(pd.to_numeric) #make the column type numeric \n",
    "print(TotalCharges_median, '\\n')"
   ]
  },
  {
   "cell_type": "code",
   "execution_count": 56,
   "id": "03d98587",
   "metadata": {},
   "outputs": [
    {
     "data": {
      "text/plain": [
       "Text(0, 0.5, 'Count')"
      ]
     },
     "execution_count": 56,
     "metadata": {},
     "output_type": "execute_result"
    },
    {
     "data": {
      "image/png": "[encoded data removed]",
      "text/plain": [
       "<Figure size 1152x360 with 1 Axes>"
      ]
     },
     "metadata": {
      "needs_background": "light"
     },
     "output_type": "display_data"
    }
   ],
   "source": [
    "plt.figure(figsize=(16,5)) #data visualization\n",
    "plt.subplot(1,2,1)\n",
    "plt.hist(df['tenure'], color = 'lightblue', edgecolor = 'black',\n",
    "         bins = int(180/10))\n",
    "\n",
    "# seaborn histogram\n",
    "sns.distplot(df['tenure'], hist=True, kde=False, \n",
    "             bins=int(180/10), color = 'violet',\n",
    "             hist_kws={'edgecolor':'black'})\n",
    "# Add labels\n",
    "plt.title('Histogram of tenure')\n",
    "plt.xlabel('tenure')\n",
    "plt.ylabel('Count')"
   ]
  },
  {
   "cell_type": "code",
   "execution_count": 57,
   "id": "7a4827aa",
   "metadata": {},
   "outputs": [
    {
     "data": {
      "text/plain": [
       "Text(0, 0.5, 'Count')"
      ]
     },
     "execution_count": 57,
     "metadata": {},
     "output_type": "execute_result"
    },
    {
     "data": {
      "image/png": "[encoded data removed]",
      "text/plain": [
       "<Figure size 1152x360 with 1 Axes>"
      ]
     },
     "metadata": {
      "needs_background": "light"
     },
     "output_type": "display_data"
    }
   ],
   "source": [
    "plt.figure(figsize=(16,5))\n",
    "plt.subplot(1,2,1)\n",
    "plt.hist(df['tenure'], color = 'lightblue', edgecolor = 'black',\n",
    "         bins = int(180/10))\n",
    "\n",
    "# seaborn histogram\n",
    "sns.distplot(df['tenure'], hist=True, kde=False, \n",
    "             bins=int(180/10), color = 'violet',\n",
    "             hist_kws={'edgecolor':'black'})\n",
    "# Add labels\n",
    "plt.title('Histogram of MonthlyCharges')\n",
    "plt.xlabel('tenure')\n",
    "plt.ylabel('Count')"
   ]
  },
  {
   "cell_type": "code",
   "execution_count": 58,
   "id": "e4814557",
   "metadata": {},
   "outputs": [
    {
     "data": {
      "text/plain": [
       "Text(0, 0.5, 'Count')"
      ]
     },
     "execution_count": 58,
     "metadata": {},
     "output_type": "execute_result"
    },
    {
     "data": {
      "image/png": "[encoded data removed]",
      "text/plain": [
       "<Figure size 1152x360 with 1 Axes>"
      ]
     },
     "metadata": {
      "needs_background": "light"
     },
     "output_type": "display_data"
    }
   ],
   "source": [
    "plt.figure(figsize=(16,5))\n",
    "plt.subplot(1,2,1)\n",
    "plt.hist(df['TotalCharges'], color = 'lightblue', edgecolor = 'black',\n",
    "         bins = int(180/10))\n",
    "\n",
    "# seaborn histogram\n",
    "sns.distplot(df['TotalCharges'], hist=True, kde=False, \n",
    "             bins=int(180/10), color = 'violet',\n",
    "             hist_kws={'edgecolor':'black'})\n",
    "# Add labels\n",
    "plt.title('Histogram of TotalCharges')\n",
    "plt.xlabel('TotalCharges')\n",
    "plt.ylabel('Count')"
   ]
  },
  {
   "cell_type": "code",
   "execution_count": 59,
   "id": "23929e50",
   "metadata": {},
   "outputs": [
    {
     "data": {
      "text/plain": [
       "Text(0.5, 1.0, 'Distribution of tenure by churn')"
      ]
     },
     "execution_count": 59,
     "metadata": {},
     "output_type": "execute_result"
    },
    {
     "data": {
      "image/png": "[encoded data removed]",
      "text/plain": [
       "<Figure size 432x288 with 1 Axes>"
      ]
     },
     "metadata": {
      "needs_background": "light"
     },
     "output_type": "display_data"
    }
   ],
   "source": [
    "ax = sns.kdeplot(df.tenure[(df[\"Churn\"] == 'No') ],\n",
    "                color=\"Red\", shade = True)\n",
    "ax = sns.kdeplot(df.tenure[(df[\"Churn\"] == 'Yes') ],\n",
    "                ax =ax, color=\"Blue\", shade= True)\n",
    "ax.legend([\"Not Churn\",\"Churn\"],loc='upper right')\n",
    "ax.set_ylabel('Density')\n",
    "ax.set_xlabel('tenure')\n",
    "ax.set_title('Distribution of tenure by churn')"
   ]
  },
  {
   "cell_type": "code",
   "execution_count": 60,
   "id": "e1eb3289",
   "metadata": {},
   "outputs": [
    {
     "name": "stdout",
     "output_type": "stream",
     "text": [
      "No     5174\n",
      "Yes    1869\n",
      "Name: Churn, dtype: int64\n"
     ]
    },
    {
     "data": {
      "image/png": "[encoded data removed]",
      "text/plain": [
       "<Figure size 432x288 with 1 Axes>"
      ]
     },
     "metadata": {},
     "output_type": "display_data"
    }
   ],
   "source": [
    "print(df[\"Churn\"].value_counts())\n",
    "df.groupby('Churn').size().plot(kind='pie', autopct='%.2f')\n",
    "plt.title('Piechart for Churn')\n",
    "plt.show()"
   ]
  },
  {
   "cell_type": "code",
   "execution_count": 61,
   "id": "12e640f1",
   "metadata": {},
   "outputs": [
    {
     "name": "stdout",
     "output_type": "stream",
     "text": [
      "Outliers: []\n"
     ]
    }
   ],
   "source": [
    "out=[]       #outlier detection by using IQR method\n",
    "def iqr_outliers(df):\n",
    "    q1 = df.quantile(0.25)\n",
    "    q3 = df.quantile(0.75)\n",
    "    iqr = q3-q1\n",
    "    Lower_tail = q1 - 1.5 * iqr\n",
    "    Upper_tail = q3 + 1.5 * iqr\n",
    "    for i in df:\n",
    "        if i > Upper_tail or i < Lower_tail:\n",
    "            out.append(i)\n",
    "    print(\"Outliers:\",out)\n",
    "    \n",
    "iqr_outliers(df['TotalCharges'])"
   ]
  },
  {
   "cell_type": "code",
   "execution_count": 62,
   "id": "84d4a424",
   "metadata": {},
   "outputs": [],
   "source": [
    "#encoding the features that have 2 values\n",
    "binary_cols = ['gender', 'SeniorCitizen', 'Partner', 'Dependents', 'PhoneService', 'PaperlessBilling', 'PhoneService', 'Churn'] \n",
    "\n",
    "for i in binary_cols: \n",
    "    if(i == 'gender'):\n",
    "        df[i].replace({'Female': 0, 'Male': 1}, inplace=True) \n",
    "    else:\n",
    "        df[i].replace({'No': 0, 'Yes': 1}, inplace=True) "
   ]
  },
  {
   "cell_type": "code",
   "execution_count": 63,
   "id": "279822f2",
   "metadata": {},
   "outputs": [],
   "source": [
    "#encoding the features that have more than 2 values\n",
    "encode_cols = [\"MultipleLines\", \"InternetService\", \"OnlineSecurity\", \"DeviceProtection\", \"TechSupport\", \"StreamingTV\", \"StreamingMovies\", \"Contract\", \"PaymentMethod\", \"OnlineBackup\"]\n",
    "ohe = OneHotEncoder(sparse = False)\n",
    "\n",
    "for i in encode_cols:\n",
    "    df = pd.concat((df , pd.DataFrame(ohe.fit_transform(df[i].to_frame()),columns = str(i+\"_\") + np.sort(df[i].unique()))),axis = 1)\n",
    "    df.drop(columns = [i],inplace = True)"
   ]
  },
  {
   "cell_type": "code",
   "execution_count": 64,
   "id": "1eae7cd6",
   "metadata": {},
   "outputs": [
    {
     "data": {
      "text/plain": [
       "Index(['customerID', 'gender', 'SeniorCitizen', 'Partner', 'Dependents',\n",
       "       'tenure', 'PhoneService', 'PaperlessBilling', 'MonthlyCharges',\n",
       "       'TotalCharges', 'Churn', 'MultipleLines_No',\n",
       "       'MultipleLines_No phone service', 'MultipleLines_Yes',\n",
       "       'InternetService_DSL', 'InternetService_Fiber optic',\n",
       "       'InternetService_No', 'OnlineSecurity_No',\n",
       "       'OnlineSecurity_No internet service', 'OnlineSecurity_Yes',\n",
       "       'DeviceProtection_No', 'DeviceProtection_No internet service',\n",
       "       'DeviceProtection_Yes', 'TechSupport_No',\n",
       "       'TechSupport_No internet service', 'TechSupport_Yes', 'StreamingTV_No',\n",
       "       'StreamingTV_No internet service', 'StreamingTV_Yes',\n",
       "       'StreamingMovies_No', 'StreamingMovies_No internet service',\n",
       "       'StreamingMovies_Yes', 'Contract_Month-to-month', 'Contract_One year',\n",
       "       'Contract_Two year', 'PaymentMethod_Bank transfer (automatic)',\n",
       "       'PaymentMethod_Credit card (automatic)',\n",
       "       'PaymentMethod_Electronic check', 'PaymentMethod_Mailed check',\n",
       "       'OnlineBackup_No', 'OnlineBackup_No internet service',\n",
       "       'OnlineBackup_Yes'],\n",
       "      dtype='object')"
      ]
     },
     "execution_count": 64,
     "metadata": {},
     "output_type": "execute_result"
    }
   ],
   "source": [
    "df.columns"
   ]
  },
  {
   "cell_type": "code",
   "execution_count": 65,
   "id": "41f5ab8e",
   "metadata": {},
   "outputs": [
    {
     "data": {
      "text/plain": [
       "Index(['customerID', 'gender', 'SeniorCitizen', 'Partner', 'Dependents',\n",
       "       'tenure', 'PhoneService', 'PaperlessBilling', 'MonthlyCharges',\n",
       "       'TotalCharges', 'Churn', 'MultipleLines_No',\n",
       "       'MultipleLines_Nophoneservice', 'MultipleLines_Yes',\n",
       "       'InternetService_DSL', 'InternetService_Fiberoptic',\n",
       "       'InternetService_No', 'OnlineSecurity_No',\n",
       "       'OnlineSecurity_Nointernetservice', 'OnlineSecurity_Yes',\n",
       "       'DeviceProtection_No', 'DeviceProtection_Nointernetservice',\n",
       "       'DeviceProtection_Yes', 'TechSupport_No',\n",
       "       'TechSupport_Nointernetservice', 'TechSupport_Yes', 'StreamingTV_No',\n",
       "       'StreamingTV_Nointernetservice', 'StreamingTV_Yes',\n",
       "       'StreamingMovies_No', 'StreamingMovies_Nointernetservice',\n",
       "       'StreamingMovies_Yes', 'Contract_Month-to-month', 'Contract_Oneyear',\n",
       "       'Contract_Twoyear', 'PaymentMethod_Banktransfer(automatic)',\n",
       "       'PaymentMethod_Creditcard(automatic)', 'PaymentMethod_Electroniccheck',\n",
       "       'PaymentMethod_Mailedcheck', 'OnlineBackup_No',\n",
       "       'OnlineBackup_Nointernetservice', 'OnlineBackup_Yes'],\n",
       "      dtype='object')"
      ]
     },
     "execution_count": 65,
     "metadata": {},
     "output_type": "execute_result"
    }
   ],
   "source": [
    "df.columns = df.columns.str.replace(' ', '')  #remove empty characters on the columns which occured after the encoding\n",
    "df.columns"
   ]
  },
  {
   "cell_type": "code",
   "execution_count": 66,
   "id": "d0cf4a9f",
   "metadata": {},
   "outputs": [],
   "source": [
    "df.drop(columns = [\"customerID\"],inplace = True)  #remove the customerID column"
   ]
  },
  {
   "cell_type": "code",
   "execution_count": 67,
   "id": "ca13e510",
   "metadata": {},
   "outputs": [
    {
     "data": {
      "text/html": [
       "<div>\n",
       "<style scoped>\n",
       "    .dataframe tbody tr th:only-of-type {\n",
       "        vertical-align: middle;\n",
       "    }\n",
       "\n",
       "    .dataframe tbody tr th {\n",
       "        vertical-align: top;\n",
       "    }\n",
       "\n",
       "    .dataframe thead th {\n",
       "        text-align: right;\n",
       "    }\n",
       "</style>\n",
       "<table border=\"1\" class=\"dataframe\">\n",
       "  <thead>\n",
       "    <tr style=\"text-align: right;\">\n",
       "      <th></th>\n",
       "      <th>gender</th>\n",
       "      <th>SeniorCitizen</th>\n",
       "      <th>Partner</th>\n",
       "      <th>Dependents</th>\n",
       "      <th>tenure</th>\n",
       "      <th>PhoneService</th>\n",
       "      <th>PaperlessBilling</th>\n",
       "      <th>MonthlyCharges</th>\n",
       "      <th>TotalCharges</th>\n",
       "      <th>Churn</th>\n",
       "      <th>...</th>\n",
       "      <th>Contract_Month-to-month</th>\n",
       "      <th>Contract_Oneyear</th>\n",
       "      <th>Contract_Twoyear</th>\n",
       "      <th>PaymentMethod_Banktransfer(automatic)</th>\n",
       "      <th>PaymentMethod_Creditcard(automatic)</th>\n",
       "      <th>PaymentMethod_Electroniccheck</th>\n",
       "      <th>PaymentMethod_Mailedcheck</th>\n",
       "      <th>OnlineBackup_No</th>\n",
       "      <th>OnlineBackup_Nointernetservice</th>\n",
       "      <th>OnlineBackup_Yes</th>\n",
       "    </tr>\n",
       "  </thead>\n",
       "  <tbody>\n",
       "    <tr>\n",
       "      <th>0</th>\n",
       "      <td>0.0</td>\n",
       "      <td>0.0</td>\n",
       "      <td>1.0</td>\n",
       "      <td>0.0</td>\n",
       "      <td>0.013889</td>\n",
       "      <td>0.0</td>\n",
       "      <td>1.0</td>\n",
       "      <td>0.115423</td>\n",
       "      <td>0.001275</td>\n",
       "      <td>0.0</td>\n",
       "      <td>...</td>\n",
       "      <td>1.0</td>\n",
       "      <td>0.0</td>\n",
       "      <td>0.0</td>\n",
       "      <td>0.0</td>\n",
       "      <td>0.0</td>\n",
       "      <td>1.0</td>\n",
       "      <td>0.0</td>\n",
       "      <td>0.0</td>\n",
       "      <td>0.0</td>\n",
       "      <td>1.0</td>\n",
       "    </tr>\n",
       "    <tr>\n",
       "      <th>1</th>\n",
       "      <td>1.0</td>\n",
       "      <td>0.0</td>\n",
       "      <td>0.0</td>\n",
       "      <td>0.0</td>\n",
       "      <td>0.472222</td>\n",
       "      <td>1.0</td>\n",
       "      <td>0.0</td>\n",
       "      <td>0.385075</td>\n",
       "      <td>0.215867</td>\n",
       "      <td>0.0</td>\n",
       "      <td>...</td>\n",
       "      <td>0.0</td>\n",
       "      <td>1.0</td>\n",
       "      <td>0.0</td>\n",
       "      <td>0.0</td>\n",
       "      <td>0.0</td>\n",
       "      <td>0.0</td>\n",
       "      <td>1.0</td>\n",
       "      <td>1.0</td>\n",
       "      <td>0.0</td>\n",
       "      <td>0.0</td>\n",
       "    </tr>\n",
       "    <tr>\n",
       "      <th>2</th>\n",
       "      <td>1.0</td>\n",
       "      <td>0.0</td>\n",
       "      <td>0.0</td>\n",
       "      <td>0.0</td>\n",
       "      <td>0.027778</td>\n",
       "      <td>1.0</td>\n",
       "      <td>1.0</td>\n",
       "      <td>0.354229</td>\n",
       "      <td>0.010310</td>\n",
       "      <td>1.0</td>\n",
       "      <td>...</td>\n",
       "      <td>1.0</td>\n",
       "      <td>0.0</td>\n",
       "      <td>0.0</td>\n",
       "      <td>0.0</td>\n",
       "      <td>0.0</td>\n",
       "      <td>0.0</td>\n",
       "      <td>1.0</td>\n",
       "      <td>0.0</td>\n",
       "      <td>0.0</td>\n",
       "      <td>1.0</td>\n",
       "    </tr>\n",
       "    <tr>\n",
       "      <th>3</th>\n",
       "      <td>1.0</td>\n",
       "      <td>0.0</td>\n",
       "      <td>0.0</td>\n",
       "      <td>0.0</td>\n",
       "      <td>0.625000</td>\n",
       "      <td>0.0</td>\n",
       "      <td>0.0</td>\n",
       "      <td>0.239303</td>\n",
       "      <td>0.210241</td>\n",
       "      <td>0.0</td>\n",
       "      <td>...</td>\n",
       "      <td>0.0</td>\n",
       "      <td>1.0</td>\n",
       "      <td>0.0</td>\n",
       "      <td>1.0</td>\n",
       "      <td>0.0</td>\n",
       "      <td>0.0</td>\n",
       "      <td>0.0</td>\n",
       "      <td>1.0</td>\n",
       "      <td>0.0</td>\n",
       "      <td>0.0</td>\n",
       "    </tr>\n",
       "    <tr>\n",
       "      <th>4</th>\n",
       "      <td>0.0</td>\n",
       "      <td>0.0</td>\n",
       "      <td>0.0</td>\n",
       "      <td>0.0</td>\n",
       "      <td>0.027778</td>\n",
       "      <td>1.0</td>\n",
       "      <td>1.0</td>\n",
       "      <td>0.521891</td>\n",
       "      <td>0.015330</td>\n",
       "      <td>1.0</td>\n",
       "      <td>...</td>\n",
       "      <td>1.0</td>\n",
       "      <td>0.0</td>\n",
       "      <td>0.0</td>\n",
       "      <td>0.0</td>\n",
       "      <td>0.0</td>\n",
       "      <td>1.0</td>\n",
       "      <td>0.0</td>\n",
       "      <td>1.0</td>\n",
       "      <td>0.0</td>\n",
       "      <td>0.0</td>\n",
       "    </tr>\n",
       "    <tr>\n",
       "      <th>...</th>\n",
       "      <td>...</td>\n",
       "      <td>...</td>\n",
       "      <td>...</td>\n",
       "      <td>...</td>\n",
       "      <td>...</td>\n",
       "      <td>...</td>\n",
       "      <td>...</td>\n",
       "      <td>...</td>\n",
       "      <td>...</td>\n",
       "      <td>...</td>\n",
       "      <td>...</td>\n",
       "      <td>...</td>\n",
       "      <td>...</td>\n",
       "      <td>...</td>\n",
       "      <td>...</td>\n",
       "      <td>...</td>\n",
       "      <td>...</td>\n",
       "      <td>...</td>\n",
       "      <td>...</td>\n",
       "      <td>...</td>\n",
       "      <td>...</td>\n",
       "    </tr>\n",
       "    <tr>\n",
       "      <th>7038</th>\n",
       "      <td>1.0</td>\n",
       "      <td>0.0</td>\n",
       "      <td>1.0</td>\n",
       "      <td>1.0</td>\n",
       "      <td>0.333333</td>\n",
       "      <td>1.0</td>\n",
       "      <td>1.0</td>\n",
       "      <td>0.662189</td>\n",
       "      <td>0.227521</td>\n",
       "      <td>0.0</td>\n",
       "      <td>...</td>\n",
       "      <td>0.0</td>\n",
       "      <td>1.0</td>\n",
       "      <td>0.0</td>\n",
       "      <td>0.0</td>\n",
       "      <td>0.0</td>\n",
       "      <td>0.0</td>\n",
       "      <td>1.0</td>\n",
       "      <td>1.0</td>\n",
       "      <td>0.0</td>\n",
       "      <td>0.0</td>\n",
       "    </tr>\n",
       "    <tr>\n",
       "      <th>7039</th>\n",
       "      <td>0.0</td>\n",
       "      <td>0.0</td>\n",
       "      <td>1.0</td>\n",
       "      <td>1.0</td>\n",
       "      <td>1.000000</td>\n",
       "      <td>1.0</td>\n",
       "      <td>1.0</td>\n",
       "      <td>0.845274</td>\n",
       "      <td>0.847461</td>\n",
       "      <td>0.0</td>\n",
       "      <td>...</td>\n",
       "      <td>0.0</td>\n",
       "      <td>1.0</td>\n",
       "      <td>0.0</td>\n",
       "      <td>0.0</td>\n",
       "      <td>1.0</td>\n",
       "      <td>0.0</td>\n",
       "      <td>0.0</td>\n",
       "      <td>0.0</td>\n",
       "      <td>0.0</td>\n",
       "      <td>1.0</td>\n",
       "    </tr>\n",
       "    <tr>\n",
       "      <th>7040</th>\n",
       "      <td>0.0</td>\n",
       "      <td>0.0</td>\n",
       "      <td>1.0</td>\n",
       "      <td>1.0</td>\n",
       "      <td>0.152778</td>\n",
       "      <td>0.0</td>\n",
       "      <td>1.0</td>\n",
       "      <td>0.112935</td>\n",
       "      <td>0.037809</td>\n",
       "      <td>0.0</td>\n",
       "      <td>...</td>\n",
       "      <td>1.0</td>\n",
       "      <td>0.0</td>\n",
       "      <td>0.0</td>\n",
       "      <td>0.0</td>\n",
       "      <td>0.0</td>\n",
       "      <td>1.0</td>\n",
       "      <td>0.0</td>\n",
       "      <td>1.0</td>\n",
       "      <td>0.0</td>\n",
       "      <td>0.0</td>\n",
       "    </tr>\n",
       "    <tr>\n",
       "      <th>7041</th>\n",
       "      <td>1.0</td>\n",
       "      <td>1.0</td>\n",
       "      <td>1.0</td>\n",
       "      <td>0.0</td>\n",
       "      <td>0.055556</td>\n",
       "      <td>1.0</td>\n",
       "      <td>1.0</td>\n",
       "      <td>0.558706</td>\n",
       "      <td>0.033210</td>\n",
       "      <td>1.0</td>\n",
       "      <td>...</td>\n",
       "      <td>1.0</td>\n",
       "      <td>0.0</td>\n",
       "      <td>0.0</td>\n",
       "      <td>0.0</td>\n",
       "      <td>0.0</td>\n",
       "      <td>0.0</td>\n",
       "      <td>1.0</td>\n",
       "      <td>1.0</td>\n",
       "      <td>0.0</td>\n",
       "      <td>0.0</td>\n",
       "    </tr>\n",
       "    <tr>\n",
       "      <th>7042</th>\n",
       "      <td>1.0</td>\n",
       "      <td>0.0</td>\n",
       "      <td>0.0</td>\n",
       "      <td>0.0</td>\n",
       "      <td>0.916667</td>\n",
       "      <td>1.0</td>\n",
       "      <td>1.0</td>\n",
       "      <td>0.869652</td>\n",
       "      <td>0.787641</td>\n",
       "      <td>0.0</td>\n",
       "      <td>...</td>\n",
       "      <td>0.0</td>\n",
       "      <td>0.0</td>\n",
       "      <td>1.0</td>\n",
       "      <td>1.0</td>\n",
       "      <td>0.0</td>\n",
       "      <td>0.0</td>\n",
       "      <td>0.0</td>\n",
       "      <td>1.0</td>\n",
       "      <td>0.0</td>\n",
       "      <td>0.0</td>\n",
       "    </tr>\n",
       "  </tbody>\n",
       "</table>\n",
       "<p>7043 rows × 41 columns</p>\n",
       "</div>"
      ],
      "text/plain": [
       "      gender  SeniorCitizen  Partner  Dependents    tenure  PhoneService  \\\n",
       "0        0.0            0.0      1.0         0.0  0.013889           0.0   \n",
       "1        1.0            0.0      0.0         0.0  0.472222           1.0   \n",
       "2        1.0            0.0      0.0         0.0  0.027778           1.0   \n",
       "3        1.0            0.0      0.0         0.0  0.625000           0.0   \n",
       "4        0.0            0.0      0.0         0.0  0.027778           1.0   \n",
       "...      ...            ...      ...         ...       ...           ...   \n",
       "7038     1.0            0.0      1.0         1.0  0.333333           1.0   \n",
       "7039     0.0            0.0      1.0         1.0  1.000000           1.0   \n",
       "7040     0.0            0.0      1.0         1.0  0.152778           0.0   \n",
       "7041     1.0            1.0      1.0         0.0  0.055556           1.0   \n",
       "7042     1.0            0.0      0.0         0.0  0.916667           1.0   \n",
       "\n",
       "      PaperlessBilling  MonthlyCharges  TotalCharges  Churn  ...  \\\n",
       "0                  1.0        0.115423      0.001275    0.0  ...   \n",
       "1                  0.0        0.385075      0.215867    0.0  ...   \n",
       "2                  1.0        0.354229      0.010310    1.0  ...   \n",
       "3                  0.0        0.239303      0.210241    0.0  ...   \n",
       "4                  1.0        0.521891      0.015330    1.0  ...   \n",
       "...                ...             ...           ...    ...  ...   \n",
       "7038               1.0        0.662189      0.227521    0.0  ...   \n",
       "7039               1.0        0.845274      0.847461    0.0  ...   \n",
       "7040               1.0        0.112935      0.037809    0.0  ...   \n",
       "7041               1.0        0.558706      0.033210    1.0  ...   \n",
       "7042               1.0        0.869652      0.787641    0.0  ...   \n",
       "\n",
       "      Contract_Month-to-month  Contract_Oneyear  Contract_Twoyear  \\\n",
       "0                         1.0               0.0               0.0   \n",
       "1                         0.0               1.0               0.0   \n",
       "2                         1.0               0.0               0.0   \n",
       "3                         0.0               1.0               0.0   \n",
       "4                         1.0               0.0               0.0   \n",
       "...                       ...               ...               ...   \n",
       "7038                      0.0               1.0               0.0   \n",
       "7039                      0.0               1.0               0.0   \n",
       "7040                      1.0               0.0               0.0   \n",
       "7041                      1.0               0.0               0.0   \n",
       "7042                      0.0               0.0               1.0   \n",
       "\n",
       "      PaymentMethod_Banktransfer(automatic)  \\\n",
       "0                                       0.0   \n",
       "1                                       0.0   \n",
       "2                                       0.0   \n",
       "3                                       1.0   \n",
       "4                                       0.0   \n",
       "...                                     ...   \n",
       "7038                                    0.0   \n",
       "7039                                    0.0   \n",
       "7040                                    0.0   \n",
       "7041                                    0.0   \n",
       "7042                                    1.0   \n",
       "\n",
       "      PaymentMethod_Creditcard(automatic)  PaymentMethod_Electroniccheck  \\\n",
       "0                                     0.0                            1.0   \n",
       "1                                     0.0                            0.0   \n",
       "2                                     0.0                            0.0   \n",
       "3                                     0.0                            0.0   \n",
       "4                                     0.0                            1.0   \n",
       "...                                   ...                            ...   \n",
       "7038                                  0.0                            0.0   \n",
       "7039                                  1.0                            0.0   \n",
       "7040                                  0.0                            1.0   \n",
       "7041                                  0.0                            0.0   \n",
       "7042                                  0.0                            0.0   \n",
       "\n",
       "      PaymentMethod_Mailedcheck  OnlineBackup_No  \\\n",
       "0                           0.0              0.0   \n",
       "1                           1.0              1.0   \n",
       "2                           1.0              0.0   \n",
       "3                           0.0              1.0   \n",
       "4                           0.0              1.0   \n",
       "...                         ...              ...   \n",
       "7038                        1.0              1.0   \n",
       "7039                        0.0              0.0   \n",
       "7040                        0.0              1.0   \n",
       "7041                        1.0              1.0   \n",
       "7042                        0.0              1.0   \n",
       "\n",
       "      OnlineBackup_Nointernetservice  OnlineBackup_Yes  \n",
       "0                                0.0               1.0  \n",
       "1                                0.0               0.0  \n",
       "2                                0.0               1.0  \n",
       "3                                0.0               0.0  \n",
       "4                                0.0               0.0  \n",
       "...                              ...               ...  \n",
       "7038                             0.0               0.0  \n",
       "7039                             0.0               1.0  \n",
       "7040                             0.0               0.0  \n",
       "7041                             0.0               0.0  \n",
       "7042                             0.0               0.0  \n",
       "\n",
       "[7043 rows x 41 columns]"
      ]
     },
     "execution_count": 67,
     "metadata": {},
     "output_type": "execute_result"
    }
   ],
   "source": [
    "scaler = MinMaxScaler(feature_range=(0, 1), copy=True)  #max min normalization [0,1]\n",
    "scaler.fit(df)\n",
    "df = pd.DataFrame(scaler.transform(df), index=df.index, columns=df.columns)\n",
    "df"
   ]
  },
  {
   "cell_type": "code",
   "execution_count": 68,
   "id": "5d00b7bd",
   "metadata": {},
   "outputs": [
    {
     "data": {
      "text/plain": [
       "<AxesSubplot:>"
      ]
     },
     "execution_count": 68,
     "metadata": {},
     "output_type": "execute_result"
    },
    {
     "data": {
      "image/png": "[encoded data removed]",
      "text/plain": [
       "<Figure size 1080x576 with 1 Axes>"
      ]
     },
     "metadata": {
      "needs_background": "light"
     },
     "output_type": "display_data"
    }
   ],
   "source": [
    "plt.figure(figsize=(15,8))\n",
    "df.corr()['Churn'].sort_values(ascending = False).plot(kind='bar') #Correlation of \"Churn\" with other features:"
   ]
  },
  {
   "cell_type": "code",
   "execution_count": null,
   "id": "90b79cd6",
   "metadata": {},
   "outputs": [],
   "source": []
  }
 ],
 "metadata": {
  "kernelspec": {
   "display_name": "Python 3",
   "language": "python",
   "name": "python3"
  },
  "language_info": {
   "codemirror_mode": {
    "name": "ipython",
    "version": 3
   },
   "file_extension": ".py",
   "mimetype": "text/x-python",
   "name": "python",
   "nbconvert_exporter": "python",
   "pygments_lexer": "ipython3",
   "version": "3.8.8"
  }
 },
 "nbformat": 4,
 "nbformat_minor": 5
}
